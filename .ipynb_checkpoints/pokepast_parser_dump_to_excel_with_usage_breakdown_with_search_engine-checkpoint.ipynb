{
 "cells": [
  {
   "cell_type": "code",
   "execution_count": 2,
   "metadata": {},
   "outputs": [
    {
     "name": "stderr",
     "output_type": "stream",
     "text": [
      "C:\\Users\\slyx183\\anaconda3\\lib\\site-packages\\requests\\__init__.py:89: RequestsDependencyWarning: urllib3 (1.26.9) or chardet (3.0.4) doesn't match a supported version!\n",
      "  warnings.warn(\"urllib3 ({}) or chardet ({}) doesn't match a supported \"\n"
     ]
    }
   ],
   "source": [
    "import requests\n",
    "from bs4 import BeautifulSoup\n",
    "import pandas as pd"
   ]
  },
  {
   "cell_type": "code",
   "execution_count": null,
   "metadata": {},
   "outputs": [],
   "source": [
    "##########start of parser###############"
   ]
  },
  {
   "cell_type": "code",
   "execution_count": 77,
   "metadata": {},
   "outputs": [],
   "source": [
    "df_raw = pd.read_excel('VGCPastes Repository.xlsx', header = 2)"
   ]
  },
  {
   "cell_type": "code",
   "execution_count": 93,
   "metadata": {},
   "outputs": [],
   "source": [
    "df_raw = df_raw[df_raw['Original Paste'] != '-']"
   ]
  },
  {
   "cell_type": "code",
   "execution_count": null,
   "metadata": {},
   "outputs": [],
   "source": []
  },
  {
   "cell_type": "code",
   "execution_count": 94,
   "metadata": {},
   "outputs": [],
   "source": [
    "urls = df_raw['Original Paste']"
   ]
  },
  {
   "cell_type": "code",
   "execution_count": 97,
   "metadata": {},
   "outputs": [],
   "source": [
    "df_compile = pd.DataFrame(columns=[0,1,2,3,4,5,6])\n",
    "for URL in urls: #URL = \"https://pokepast.es/7439f2100cd4871a\" # \"https://realpython.github.io/fake-jobs/\"\n",
    "    page = requests.get(URL)\n",
    "\n",
    "    soup = BeautifulSoup(page.content, \"html.parser\")\n",
    "\n",
    "    results = soup.find_all('article')\n",
    "\n",
    "    df = pd.DataFrame()\n",
    "\n",
    "    team_set = []\n",
    "    title = soup.find('aside').text.strip()\n",
    "    split_title = title.split(\"Columns\", 1)\n",
    "    team_set.append(split_title[0])\n",
    "    pkmn_set = []\n",
    "    for result in results:\n",
    "        pkmn_text = result.text.strip()\n",
    "        team_set.append(pkmn_text)\n",
    "    df['0'] = team_set\n",
    "    df_t = df.transpose()\n",
    "    #df_t.to_excel('team_set.xlsx',index = False)\n",
    "    df_compile = df_compile.append(df_t, ignore_index = True)\n"
   ]
  },
  {
   "cell_type": "code",
   "execution_count": 98,
   "metadata": {},
   "outputs": [],
   "source": [
    "del df_compile[7]"
   ]
  },
  {
   "cell_type": "code",
   "execution_count": 99,
   "metadata": {},
   "outputs": [],
   "source": [
    "df_compile.columns = ['Title', 'Pokemon 1', 'Pokemon 2', 'Pokemon 3', 'Pokemon 4', 'Pokemon 5', 'Pokemon 6']\n",
    "df_compile['Full_Team'] = df_compile['Pokemon 1']+df_compile['Pokemon 2']+df_compile['Pokemon 3']+df_compile['Pokemon 4']+df_compile['Pokemon 5']+df_compile['Pokemon 6']\n",
    "df_compile.to_excel('vgc_pastes_dump.xlsx',index =False)"
   ]
  },
  {
   "cell_type": "code",
   "execution_count": 3,
   "metadata": {},
   "outputs": [],
   "source": [
    "##########end of parser, start of searcher############\n",
    "df_compile = pd.read_excel('vgc_pastes_dump.xlsx')"
   ]
  },
  {
   "cell_type": "code",
   "execution_count": 4,
   "metadata": {},
   "outputs": [],
   "source": [
    "def search_fn(search_type,search_param_1,search_param_2,search_param_3,set_param_1,set_param_2,set_param_3):\n",
    "    if search_type == 'pkmn':\n",
    "        print('Searching pokemon with condition(s) ' + search_param_1 + ',' + search_param_2+ ',' + search_param_3  + ' out of pokemon with condition(s) '+ set_param_1 + ',' + set_param_2+ ',' + set_param_3 + ': '+ \n",
    "            str(len(df_compile[((df_compile['Pokemon 1'].str.contains(search_param_1) == True)\n",
    "                   &(df_compile['Pokemon 1'].str.contains(search_param_2) == True)\n",
    "                   &(df_compile['Pokemon 1'].str.contains(search_param_3) == True))\n",
    "                  |((df_compile['Pokemon 2'].str.contains(search_param_1) == True)\n",
    "                   &(df_compile['Pokemon 2'].str.contains(search_param_2) == True)\n",
    "                   &(df_compile['Pokemon 2'].str.contains(search_param_3) == True))\n",
    "                  |((df_compile['Pokemon 3'].str.contains(search_param_1) == True)\n",
    "                   &(df_compile['Pokemon 3'].str.contains(search_param_2) == True)\n",
    "                   &(df_compile['Pokemon 3'].str.contains(search_param_3) == True))\n",
    "                  |((df_compile['Pokemon 4'].str.contains(search_param_1) == True)\n",
    "                   &(df_compile['Pokemon 4'].str.contains(search_param_2) == True)\n",
    "                   &(df_compile['Pokemon 4'].str.contains(search_param_3) == True))\n",
    "                  |((df_compile['Pokemon 5'].str.contains(search_param_1) == True)\n",
    "                   &(df_compile['Pokemon 5'].str.contains(search_param_2) == True)\n",
    "                   &(df_compile['Pokemon 5'].str.contains(search_param_3) == True))\n",
    "                  |((df_compile['Pokemon 6'].str.contains(search_param_1) == True)\n",
    "                   &(df_compile['Pokemon 6'].str.contains(search_param_2) == True)\n",
    "                   &(df_compile['Pokemon 6'].str.contains(search_param_3) == True))])/\n",
    "                len(df_compile[((df_compile['Pokemon 1'].str.contains(set_param_1) == True)\n",
    "                   &(df_compile['Pokemon 1'].str.contains(set_param_2) == True)\n",
    "                   &(df_compile['Pokemon 1'].str.contains(set_param_3) == True))\n",
    "                  |((df_compile['Pokemon 2'].str.contains(set_param_1) == True)\n",
    "                   &(df_compile['Pokemon 2'].str.contains(set_param_2) == True)\n",
    "                   &(df_compile['Pokemon 2'].str.contains(set_param_3) == True))\n",
    "                  |((df_compile['Pokemon 3'].str.contains(set_param_1) == True)\n",
    "                   &(df_compile['Pokemon 3'].str.contains(set_param_2) == True)\n",
    "                   &(df_compile['Pokemon 3'].str.contains(set_param_3) == True))\n",
    "                  |((df_compile['Pokemon 4'].str.contains(set_param_1) == True)\n",
    "                   &(df_compile['Pokemon 4'].str.contains(set_param_2) == True)\n",
    "                   &(df_compile['Pokemon 4'].str.contains(set_param_3) == True))\n",
    "                  |((df_compile['Pokemon 5'].str.contains(set_param_1) == True)\n",
    "                   &(df_compile['Pokemon 5'].str.contains(set_param_2) == True)\n",
    "                   &(df_compile['Pokemon 5'].str.contains(set_param_3) == True))\n",
    "                  |((df_compile['Pokemon 6'].str.contains(set_param_1) == True)\n",
    "                   &(df_compile['Pokemon 6'].str.contains(set_param_2) == True)\n",
    "                   &(df_compile['Pokemon 6'].str.contains(set_param_3) == True))])*100)+'%')\n",
    "    elif search_type == 'team':\n",
    "        print('Searching teams with condition(s) ' + search_param_1 + ',' + search_param_2+ ',' + search_param_3 \n",
    "              + ' out of teams with condition(s) '+ set_param_1 + ',' + set_param_2+ ',' + set_param_3 + ': '+ \n",
    "              str(len(df_compile[((df_compile['Full_Team'].str.contains(search_param_1) == True)\n",
    "                   &(df_compile['Full_Team'].str.contains(search_param_2) == True)\n",
    "                   &(df_compile['Full_Team'].str.contains(search_param_3) == True))\n",
    "                  ])/\n",
    "                len(df_compile[((df_compile['Full_Team'].str.contains(set_param_1) == True)\n",
    "                   &(df_compile['Full_Team'].str.contains(set_param_2) == True)\n",
    "                   &(df_compile['Full_Team'].str.contains(set_param_3) == True))\n",
    "                  ])*100)+'%')\n",
    "    else:\n",
    "        print('Error - Please enter valid search type (pkmn or team)')"
   ]
  },
  {
   "cell_type": "code",
   "execution_count": 5,
   "metadata": {},
   "outputs": [
    {
     "name": "stdout",
     "output_type": "stream",
     "text": [
      "Searching pokemon with condition(s) Gastrodon,Rindo,  out of pokemon with condition(s) Gastrodon, , : 6.25%\n"
     ]
    }
   ],
   "source": [
    "###toggle between pkmn (search pokemon with X attributes) or team (search team with X and Y attributes across multiple pkmn)###\n",
    "search_type = 'pkmn' \n",
    "###toggle between pkmn (search pokemon with X attributes) or team (search team with X and Y attributes across multiple pkmn)###\n",
    "\n",
    "###leave spaces in params if not needed###\n",
    "search_param_1 = 'Gastrodon'\n",
    "search_param_2 = 'Rindo'\n",
    "search_param_3 = ' ' \n",
    "\n",
    "set_param_1 = 'Gastrodon'\n",
    "set_param_2 = ' '\n",
    "set_param_3 = ' '\n",
    "###leave spaces in params if not needed###\n",
    "search_fn(search_type,search_param_1,search_param_2,search_param_3,set_param_1,set_param_2,set_param_3)"
   ]
  },
  {
   "cell_type": "code",
   "execution_count": null,
   "metadata": {},
   "outputs": [],
   "source": []
  },
  {
   "cell_type": "code",
   "execution_count": null,
   "metadata": {},
   "outputs": [],
   "source": []
  }
 ],
 "metadata": {
  "kernelspec": {
   "display_name": "Python 3",
   "language": "python",
   "name": "python3"
  },
  "language_info": {
   "codemirror_mode": {
    "name": "ipython",
    "version": 3
   },
   "file_extension": ".py",
   "mimetype": "text/x-python",
   "name": "python",
   "nbconvert_exporter": "python",
   "pygments_lexer": "ipython3",
   "version": "3.8.3"
  }
 },
 "nbformat": 4,
 "nbformat_minor": 4
}
